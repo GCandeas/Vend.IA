{
  "nbformat": 4,
  "nbformat_minor": 0,
  "metadata": {
    "colab": {
      "provenance": [],
      "mount_file_id": "1mr-kqMgyO3HNXXfVLdUmP5KkrM4LIC5h",
      "authorship_tag": "ABX9TyPrPBn0pvpliAUdm/m/aQoY",
      "include_colab_link": true
    },
    "kernelspec": {
      "name": "python3",
      "display_name": "Python 3"
    },
    "language_info": {
      "name": "python"
    }
  },
  "cells": [
    {
      "cell_type": "markdown",
      "metadata": {
        "id": "view-in-github",
        "colab_type": "text"
      },
      "source": [
        "<a href=\"https://colab.research.google.com/github/GCandeas/Vend.IA/blob/main/Vend_IA.ipynb\" target=\"_parent\"><img src=\"https://colab.research.google.com/assets/colab-badge.svg\" alt=\"Open In Colab\"/></a>"
      ]
    },
    {
      "cell_type": "markdown",
      "source": [
        "# **Vend.IA**"
      ],
      "metadata": {
        "id": "9INfGwcdj4vK"
      }
    },
    {
      "cell_type": "markdown",
      "source": [
        "## Introdução\n",
        "\n",
        "Este projeto visa exemplificar a implementação da inteligência artificial generativa Gemini para a precificação de produtos, proporcionando uma abordagem genérica e replicável para qualquer empreendimento com objetivos semelhantes.\n",
        "\n",
        "A arquitetura adotada pelo projeto é composta por três etapas fundamentais: entrada de dados, processamento pelo modelo e saída de dados.\n",
        "\n",
        "O propósito central é capacitar um modelo de IA Gemini para interpretar um prompt contendo informações específicas sobre um produto e, em resposta, gerar um valor numérico correspondente ao preço de venda desse produto.\n",
        "\n",
        "Ao longo do processo, serão abordadas as seguintes etapas:\n",
        "\n",
        "* Seleção dos dados de entrada;\n",
        "* Criação de um contexto para os dados de entrada (engenharia de prompts);\n",
        "* Aprimoramento do modelo (ajuste fino);\n",
        "* Teste do modelo por meio de uma API.\n",
        "\n",
        "Este projeto utilizará dados previamente preparados, permitindo focar na implementação do modelo. Tais dados são reais, originados de uma aplicação comercial em uso, proporcionando uma aproximação significativa com os desafios enfrentados no cotidiano.\n",
        "\n",
        "Essa iniciativa visa resolver uma necessidade real de um cliente que enfrenta múltiplas negociações diárias. Trata-se de uma loja especializada na venda de peças automotivas, cuja rotina inclui negociações com diversas seguradoras visando garantir o sucesso das vendas.\n"
      ],
      "metadata": {
        "id": "cCfiXwTdzBCC"
      }
    },
    {
      "cell_type": "markdown",
      "source": [
        "## 1. Selecionando os Dados\n",
        "\n",
        "O processo de construção de um modelo de precificação inicia-se com a identificação dos dados cruciais necessários para estabelecer o preço do produto em questão. Não apenas os dados em si são relevantes, mas também sua formatação, visando uma melhor compreensão por parte do modelo.\n",
        "\n",
        "Considerando as necessidades do cliente, foi determinado que os dados seriam disponibilizados em formato JSON, incluindo os seguintes campos:\n",
        "\n",
        "```\n",
        "{\n",
        "    \"cod_produto\": {\n",
        "      \"montadora\": {\n",
        "        \"montadora\": <nome_montadora>,\n",
        "        \"sigla_montadora\": <sigla_sistema>\n",
        "      },\n",
        "      \"id_conjunto\": <id_conjuto_modelos>,\n",
        "      \"tipo\": {\n",
        "        \"tipo\": <descricao_tipo>,\n",
        "        \"sigla_tipo\": <sigla_sistema>\n",
        "      },\n",
        "      \"caracteristica\": {\n",
        "        \"caracteristica\": <descricao_caracteristica>,\n",
        "        \"id_caracteristica\": <id_caracteristica_sistema>\n",
        "      }\n",
        "    },\n",
        "    \"fabricante\": {\n",
        "      \"fabricante\": <nome_fabricante>,\n",
        "      \"sigla_fabricante\": <sigla_sistema>\n",
        "    },\n",
        "    \"val_compra\": <valor_compra>,\n",
        "    \"dat_compra\": <data_compra>,\n",
        "    \"dat_venda\": <data_venda>, -> dia atual\n",
        "    \"dias_estoque\": <tempo_estocado>,\n",
        "    \"busca_web\": [<descricao_tipo>,<descricao_caracteristica>,<modelo>,<ano_modelo>,<nome_fabricante>] -> palavras-chave para busca na internet\n",
        "  }\n",
        "```\n",
        "\n",
        "A escolha dos dados deve refletir as informações utilizadas pelo usuário para precificar o produto, considerando também o processo realizado pelo usuário para chegar a um resultado, neste caso, o preço de venda."
      ],
      "metadata": {
        "id": "c5M5qeI3lvbV"
      }
    },
    {
      "cell_type": "markdown",
      "source": [
        "## 2. Criando o Prompt\n",
        "\n",
        "A construção de um prompt para este modelo requer experimentações e testes detalhados para alcançar um resultado satisfatório.\n",
        "\n",
        "Neste projeto, adotaremos uma abordagem em que dividimos o input em duas partes distintas. Na primeira parte, forneceremos um contexto para o input. Esse contexto consiste em instruções claras sobre o que desejamos que o modelo faça, refletindo o processo realizado pelo usuário para atingir o resultado desejado.\n",
        "\n",
        "Por outro lado, a segunda parte do input será composta pelos dados fornecidos em formato JSON. Estes dados são cruciais para alcançar o resultado desejado, neste caso, a precificação do produto.\n",
        "\n",
        "O prompt pode ser exemplificado da seguinte forma:\n",
        "\n",
        "```\n",
        "Siga os passos a seguir. O campo \"busca_web\" do JSON contém um array de palavras-chave referentes a um produto específico. Faça uma pesquisa utilizando o Google Search com as palavras-chave fornecidas pelo campo \"busca_web\" e traga os 5 valores de venda mais relevantes encontrados. Considere apenas valores de produtos novos. O JSON fornecido contém informações relevantes sobre um produto. A partir dessas informações, extrapole um valor de venda para o produto em questão. Leve em consideração os valores encontrados pela pesquisa realizada no Google Search para extrapolar o valor de venda.\n",
        "\n",
        "{\n",
        "    \"cod_produto\": {\n",
        "      \"montadora\": {\n",
        "        \"montadora\": \"fiat\",\n",
        "        \"sigla_montadora\": \"FT\"\n",
        "      },\n",
        "      \"id_conjunto\": 104,\n",
        "      \"tipo\": {\n",
        "        \"tipo\": \"parabrisa\",\n",
        "        \"sigla_tipo\": \"PB\"\n",
        "      },\n",
        "      \"caracteristica\": {\n",
        "        \"caracteristica\": \"degrade\",\n",
        "        \"id_caracteristica\": 101\n",
        "      }\n",
        "    },\n",
        "    \"fabricante\": {\n",
        "      \"fabricante\": \"pilkington\",\n",
        "      \"sigla_fabricante\": \"PK\"\n",
        "    },\n",
        "    \"val_compra\": 258,\n",
        "    \"dat_compra\": \"2022-06-10T13:30:01.142508\",\n",
        "    \"dat_venda\": \"2022-10-06T13:09:05.166543\",\n",
        "    \"dias_estoque\": 118,\n",
        "    \"busca_web\": [\"parabrisa\",\"degrade\",\"fiorino bau\",2015,\"pilkington\"]\n",
        "  }\n",
        "```\n",
        "\n",
        "É importante ressaltar que o contexto permanecerá constante para todos os inputs, enquanto os dados (JSON) são variáveis e devem ser substituídos conforme cada input."
      ],
      "metadata": {
        "id": "euQActQslzKp"
      }
    },
    {
      "cell_type": "markdown",
      "source": [
        "## 3. Aprimorando o Modelo (Tuning)\n",
        "\n",
        "Para garantir resultados satisfatórios nesta situação, é fundamental ir além do prompt ideal. É necessário customizar o modelo, treiná-lo para processar com clareza o input e retornar o dado esperado.\n",
        "\n",
        "Por isso, o tuning do modelo é essencial. A plataforma do Google AI Studio oferece de maneira intuitiva um método para isso.\n",
        "\n",
        "Na plataforma, na barra de ferramentas à esquerda, encontra-se o botão \"new tuned model\", que nos direciona para uma tela onde podemos treinar o modelo com base em dados prévios no formato CSV.\n",
        "\n",
        "O CSV consiste em uma série de inputs e outputs esperados, treinando a IA para que, ao receber determinado input, retorne o output esperado. Utilizei o documento \"TRAINIG_DATA.csv\" para fazer o tuning do modelo. Este documento possui 430 linhas, onde cada uma corresponde a uma entrada e sua saída esperada, seguindo a seguinte estrutura:\n",
        "\n",
        "> *contexto, JSON, output*\n",
        "\n",
        "Onde os campos \"contexto\" e \"JSON\" correspondem ao input do prompt, conforme definimos anteriormente.\n",
        "\n",
        "Além disso, é necessário definir em \"Advanced Settings\" a quantidade de épocas, a taxa de aprendizagem e o batch size para treinar nosso modelo com nossos dados.\n",
        "\n",
        "Para este projeto, realizei 3 treinamentos com configurações diferentes. No primeiro modelo, utilizei as configurações automáticas e observei que após 5 épocas, a taxa de erro ainda estava elevada. Então, treinei outro modelo com 10 épocas e percebi que a taxa de erros estava convergindo para 0. Porém, insatisfeito, fiz mais um treinamento com 15 épocas e observei a mesma convergência, porém desta vez já estava satisfatório o resultado. Decidi que este seria o modelo a ser utilizado neste projeto.\n",
        "\n",
        "É importante ressaltar que é possível otimizar ainda mais o modelo, o que não foi feito devido a restrições de tempo para garantir a entrega dentro do prazo do desafio proposto.\n",
        "\n",
        "Toda a documentação necessária está disponível em: [Tuning Guild](https://ai.google.dev/gemini-api/docs/model-tuning?hl=pt-br)"
      ],
      "metadata": {
        "id": "EHCnuDjlmGh2"
      }
    },
    {
      "cell_type": "markdown",
      "source": [
        "## 4. Testando os resultados com a API\n",
        "\n",
        "Chegou o momento de testarmos nosso modelo usando a API do Google para enviar os prompts ao nosso modelo treinado e receber as respostas automaticamente, simulando sua utilização no dia a dia pelo cliente.\n",
        "\n",
        "É importante ressaltar que estamos lidando com a parte do backend, e que praticamente todo esse processo é transparente para o cliente.\n",
        "\n",
        "A seguir, apresento o trecho de código comentado e dividido em etapas para facilitar sua compreensão. Para a execução do teste, utilizamos o arquivo \"EXT_TESTE_DADOS.json\", que contém 50 registros não utilizados durante o tuning, proporcionando uma simulação real do dia a dia."
      ],
      "metadata": {
        "id": "tLV7SSZOmKp3"
      }
    },
    {
      "cell_type": "code",
      "source": [
        "# Executando o comando pip para instalar o pacote 'pip install google-generativeai'\n",
        "!pip install -q -U google-generativeai"
      ],
      "metadata": {
        "collapsed": true,
        "id": "AaPYjPSpogK7"
      },
      "execution_count": null,
      "outputs": []
    },
    {
      "cell_type": "markdown",
      "source": [
        "Obs.: Para termos acesso aos modelos 'tunados' é necessário uma autenticação especial, conforme explicado na documentação: [OAuth](https://ai.google.dev/palm_docs/oauth_quickstart?hl=pt-br)"
      ],
      "metadata": {
        "id": "9RdmwtKolWMq"
      }
    },
    {
      "cell_type": "code",
      "source": [
        "# Executando o comando que realiza autenticacao no gcloud\n",
        "# Lembrando que para cada projeto sera nescessario um \"client-id-file\"\n",
        "!gcloud auth application-default login \\\n",
        "    --no-browser \\\n",
        "    --client-id-file=/content/client_secret_371389574539-kn06ke8tuuqc0sdcl6mpoq39her7tk93.apps.googleusercontent.com.json \\\n",
        "    --scopes='https://www.googleapis.com/auth/cloud-platform,https://www.googleapis.com/auth/generative-language.tuning'"
      ],
      "metadata": {
        "colab": {
          "base_uri": "https://localhost:8080/"
        },
        "id": "CPjThVR4zUfc",
        "outputId": "41cc5289-4bd0-4cba-ce0d-04cb4250c972"
      },
      "execution_count": null,
      "outputs": [
        {
          "output_type": "stream",
          "name": "stdout",
          "text": [
            "You are authorizing client libraries without access to a web browser. Please run the following command on a machine with a web browser and copy its output back here. Make sure the installed gcloud version is 372.0.0 or newer.\n",
            "\n",
            "gcloud auth application-default login --remote-bootstrap=\"https://accounts.google.com/o/oauth2/auth?response_type=code&client_id=371389574539-kn06ke8tuuqc0sdcl6mpoq39her7tk93.apps.googleusercontent.com&scope=https%3A%2F%2Fwww.googleapis.com%2Fauth%2Fcloud-platform+https%3A%2F%2Fwww.googleapis.com%2Fauth%2Fgenerative-language.tuning&state=hZcEZPpm8A33J1VF4PHp0cO0hy1usc&access_type=offline&code_challenge=xB3VeexANud8dne_gp_yRWHWiEOmzgt9oIA7_lzS_Zc&code_challenge_method=S256&token_usage=remote\"\n",
            "\n",
            "\n",
            "Enter the output of the above command: https://localhost:8085/?state=hZcEZPpm8A33J1VF4PHp0cO0hy1usc&code=4/0AdLIrYd0ubmWxkYkyUsJ3shbGIuafEHZnjkrB4uhA_5RbFntOLM7SJUq3ixi33oJW7yNmQ&scope=https://www.googleapis.com/auth/cloud-platform%20https://www.googleapis.com/auth/generative-language.tuning\n",
            "\n",
            "Credentials saved to file: [/content/.config/application_default_credentials.json]\n",
            "\n",
            "These credentials will be used by any library that requests Application Default Credentials (ADC).\n"
          ]
        }
      ]
    },
    {
      "cell_type": "code",
      "source": [
        "# Importando a biblioteca da API do Google Gemini\n",
        "import google.generativeai as genai\n",
        "\n",
        "# Importando a biblioteca do Google colab para utilisacao do cofre de senhas (secrets)\n",
        "from google.colab import userdata\n",
        "\n",
        "# Importando a biblioteca de manipulacao de JSON do Python\n",
        "import json"
      ],
      "metadata": {
        "id": "NDj5lSglp1Xt"
      },
      "execution_count": null,
      "outputs": []
    },
    {
      "cell_type": "code",
      "source": [
        "# Definindo as configuracoes para a elaboracao das respostas\n",
        "generation_config = {\n",
        "  'temperature': 0.9,\n",
        "  'candidate_count':1\n",
        "}\n",
        "\n",
        "# Definindo as configuracoes de \"seguraca\" para as respostas\n",
        "safety_settings = [\n",
        "]"
      ],
      "metadata": {
        "id": "1NnSzvDqqM49"
      },
      "execution_count": null,
      "outputs": []
    },
    {
      "cell_type": "code",
      "source": [
        "# Criando uma nova instancia do modelo generativo de acordo com as configuracoes\n",
        "# Perceba que foi informado um nome customisado para o modelo\n",
        "model = genai.GenerativeModel(\n",
        "    model_name=\"tunedModels/vendia-tuned-e15b5-5jo772t1rh4w\",\n",
        "    generation_config=generation_config,\n",
        "    safety_settings=safety_settings\n",
        ")"
      ],
      "metadata": {
        "id": "II-0bCZZsHhz"
      },
      "execution_count": null,
      "outputs": []
    },
    {
      "cell_type": "code",
      "source": [
        "# Definindo varivel para armazenar o input que dara contexto ao prompt\n",
        "prompt_context = 'Siga os passos a seguir. O campo \"busca_web\" do JSON contem um array de palavras chaves referentes a um produto especifico. Faça uma pesquisa utilizando o Google Search com as palavras chaves fornecidas pelo campo \"busca_web\" e traga os 5 valores de venda mais relevantes encontrados. Traga somente valores de produtos novos. O JSON fornecido contem informações relevantes sobre um produto. A partir destas informações extrapole um valor de venda para o referido produto. Leve em consideração os valores encontrados pela pesquisa realizada no  Google Search para estrapolar o valor de venda.'"
      ],
      "metadata": {
        "id": "4wI7ez22szxk"
      },
      "execution_count": null,
      "outputs": []
    },
    {
      "cell_type": "code",
      "source": [
        "# Abrindo e carregando os dados do arquivo de dados para teste\n",
        "# Os dados carregados sao salvos na variavel \"data_test\"\n",
        "with open('EXT_TESTE_DADOS.json', mode='r') as f:\n",
        "  data_test = json.load(f)"
      ],
      "metadata": {
        "id": "gTXpuLH3tyl5"
      },
      "execution_count": null,
      "outputs": []
    },
    {
      "cell_type": "code",
      "source": [
        "# Definindo lista para armazenar a porcentagem de acerto de cada interacao\n",
        "resultados = []\n",
        "\n",
        "# Percorrendo os dados de teste e executando a API\n",
        "for data in data_test:\n",
        "\n",
        "  # Formatando o JSON para string\n",
        "  # Salva o JSON formatado na variavel \"prompt_json\"\n",
        "  prompt_json = json.dumps(data['input'], indent=4)\n",
        "\n",
        "  # Definindo o prompt que sera enviado para API\n",
        "  prompt_parts = [\n",
        "      prompt_context,\n",
        "      prompt_json\n",
        "  ]\n",
        "\n",
        "  # Envia o prompt para ser processado e armazena a respota obtida na variavel \"model_response\"\n",
        "  model_response = model.generate_content(prompt_parts)\n",
        "\n",
        "  # Extrai o valor obtido pelo modelo e o convert para inteiro\n",
        "  response = int(model_response.text)\n",
        "\n",
        "  # Definindo variavel para armazenar o valor esperado de acordo com os dados de teste\n",
        "  esperado = int(data[\"output\"])\n",
        "\n",
        "  # Calcula a o valor absoluto entre a resposta e o valor esperado\n",
        "  diferenca = abs(response - esperado)\n",
        "\n",
        "  # Calcula o a porcentagem de acerto da resposta do modelo comparado com a saida esperada\n",
        "  acerto = (1 - (diferenca / esperado)) * 100\n",
        "\n",
        "  # Armazenando o resultado na lista\n",
        "  resultados.append(acerto)\n",
        "\n",
        "  # Saida para DEBUG: Exibe os calculos um a um\n",
        "  #print(f' resposta: {response}\\n esperado: {esperado}\\n acerto: {acerto}%\\n ')\n",
        "\n",
        "# Calculando a media dos resultados\n",
        "media = sum(resultados) / float(len(resultados))\n",
        "\n",
        "# Imprimindo a media dos resultados\n",
        "print(f\"Total de input's processados: {len(resultados)}\\nTaxa de acerto medio: {media}%\")"
      ],
      "metadata": {
        "colab": {
          "base_uri": "https://localhost:8080/"
        },
        "id": "rlGn19GQvWM0",
        "outputId": "6a75a650-f107-47f6-80be-f1e4ba3d768c"
      },
      "execution_count": null,
      "outputs": [
        {
          "output_type": "stream",
          "name": "stdout",
          "text": [
            "Total de input's processados: 50\n",
            "Taxa de acerto medio: 88.10572920896988%\n"
          ]
        }
      ]
    },
    {
      "cell_type": "markdown",
      "source": [
        "## 5. Considerações finais\n",
        "A conclusão dos testes demonstra um progresso animador em nossa jornada rumo à excelência. No entanto, reconhecemos que ainda há um vasto território a ser desbravado. Para alcançar patamares ainda mais altos, torna-se crucial mergulharmos nas nuances do comportamento de compra dos nossos clientes.\n",
        "\n",
        "Ao desvendarmos as preferências e necessidades individuais de cada cliente, abrimos as portas para um novo patamar de vendas: não apenas satisfatórias, mas excepcionais. Através dessa compreensão profunda, podemos personalizar cada interação, transformando cada transação em uma experiência memorável e encantadora."
      ],
      "metadata": {
        "id": "Vy0Fs3ybmEGP"
      }
    }
  ]
}